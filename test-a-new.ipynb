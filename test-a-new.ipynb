{
 "cells": [
  {
   "cell_type": "code",
   "execution_count": null,
   "metadata": {},
   "outputs": [],
   "source": [
    "import os\n",
    "audio_directory = './training-a/'\n",
    "output_directory = './output_plots/'  \n",
    "\n",
    "os.makedirs(output_directory, exist_ok=True)\n",
    "\n",
    "audio_files = [f for f in os.listdir(audio_directory) if f.endswith('.wav')]"
   ]
  },
  {
   "cell_type": "code",
   "execution_count": null,
   "metadata": {},
   "outputs": [],
   "source": [
    "import os\n",
    "import librosa\n",
    "import librosa.display\n",
    "#PDF file to store all plots\n",
    "pdf_filename = os.path.join(output_directory, 'all_plots.pdf')\n",
    "pdf_pages = []\n",
    "\n",
    "for audio_file in audio_files:\n",
    "    audio_path = os.path.join(audio_directory, audio_file)\n",
    "    y, sr = librosa.load(audio_path)\n"
   ]
  },
  {
   "cell_type": "code",
   "execution_count": null,
   "metadata": {},
   "outputs": [],
   "source": [
    "import os\n",
    "import librosa\n",
    "import librosa.display\n",
    "import matplotlib.pyplot as plt\n",
    "import numpy as np\n",
    "# Waveform\n",
    "plt.figure(figsize=(14, 5))\n",
    "librosa.display.waveshow(y, sr=sr)\n",
    "plt.title(f'Waveform - {audio_file}')\n",
    "plt.xlabel('Time (s)')\n",
    "plt.ylabel('Amplitude')\n",
    "waveform_save_path = os.path.join(output_directory, f'waveform_{audio_file.replace(\".wav\", \".png\")}')\n",
    "plt.savefig(waveform_save_path)\n",
    "plt.close()"
   ]
  },
  {
   "cell_type": "code",
   "execution_count": null,
   "metadata": {},
   "outputs": [],
   "source": [
    "import os\n",
    "import librosa\n",
    "import librosa.display\n",
    "import matplotlib.pyplot as plt\n",
    "import numpy as np \n",
    "# Spectrogram\n",
    "plt.figure(figsize=(14, 5))\n",
    "D = librosa.amplitude_to_db(librosa.stft(y), ref=np.max)\n",
    "librosa.display.specshow(D, sr=sr, x_axis='time', y_axis='log')\n",
    "plt.title(f'Spectrogram - {audio_file}')\n",
    "plt.xlabel('Time (s)')\n",
    "plt.ylabel('Frequency (Hz)')\n",
    "plt.colorbar(format='%+2.0f dB')\n",
    "spectrogram_save_path = os.path.join(output_directory, f'spectrogram_{audio_file.replace(\".wav\", \".png\")}')\n",
    "plt.savefig(spectrogram_save_path)\n",
    "plt.close()\n",
    "\n",
    "    \n",
    "pdf_pages.extend([waveform_save_path, spectrogram_save_path])\n"
   ]
  },
  {
   "cell_type": "code",
   "execution_count": null,
   "metadata": {},
   "outputs": [],
   "source": [
    "import os\n",
    "import librosa\n",
    "import librosa.display\n",
    "import matplotlib.pyplot as plt\n",
    "import numpy as np\n",
    "try:\n",
    "    import img2pdf\n",
    "\n",
    "    with open(pdf_filename, \"wb\") as pdf_file:\n",
    "        pdf_file.write(img2pdf.convert(pdf_pages))\n",
    "    print(f'All plots saved in {pdf_filename}')\n",
    "except ImportError:\n",
    "    print(\"img2pdf module is not installed. You can install it with 'pip install img2pdf'\")\n"
   ]
  }
 ],
 "metadata": {
  "language_info": {
   "name": "python"
  },
  "orig_nbformat": 4
 },
 "nbformat": 4,
 "nbformat_minor": 2
}
